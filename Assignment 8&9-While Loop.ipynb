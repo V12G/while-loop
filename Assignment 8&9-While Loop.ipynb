{
 "cells": [
  {
   "cell_type": "code",
   "execution_count": 1,
   "id": "78fba970",
   "metadata": {},
   "outputs": [
    {
     "name": "stdout",
     "output_type": "stream",
     "text": [
      "MysirG\n",
      "MysirG\n",
      "MysirG\n",
      "MysirG\n",
      "MysirG\n",
      "MysirG\n"
     ]
    }
   ],
   "source": [
    "# Write a python script to print MySirG 5 times on the screen.\n",
    "i=0\n",
    "while i<=5:\n",
    "    print(\"MysirG\")\n",
    "    i+=1"
   ]
  },
  {
   "cell_type": "code",
   "execution_count": 4,
   "id": "cc0b9c3f",
   "metadata": {},
   "outputs": [
    {
     "name": "stdout",
     "output_type": "stream",
     "text": [
      "1 2 3 4 5 6 7 8 9 10 "
     ]
    }
   ],
   "source": [
    "# Write a python script to print first 10 natural numbers.\n",
    "n=1\n",
    "while n<=10:\n",
    "    print(n,end=' ')\n",
    "    n+=1"
   ]
  },
  {
   "cell_type": "code",
   "execution_count": 7,
   "id": "c35f2a63",
   "metadata": {},
   "outputs": [
    {
     "name": "stdout",
     "output_type": "stream",
     "text": [
      "10 9 8 7 6 5 4 3 2 1 "
     ]
    }
   ],
   "source": [
    "# Write a python script to print first 10 natural numbers in reverse order.\n",
    "n=10\n",
    "while 0<n<=10:\n",
    "    print(n,end=' ')\n",
    "    n-=1"
   ]
  },
  {
   "cell_type": "code",
   "execution_count": 4,
   "id": "ff25e705",
   "metadata": {},
   "outputs": [
    {
     "name": "stdout",
     "output_type": "stream",
     "text": [
      "1 3 5 7 9 11 13 15 17 19 "
     ]
    }
   ],
   "source": [
    "# Write a python script to print first 10 odd natural numbers.\n",
    "n=1\n",
    "while n<20:\n",
    "    print(n,end=' ')\n",
    "    n+=2"
   ]
  },
  {
   "cell_type": "code",
   "execution_count": 7,
   "id": "c45527a2",
   "metadata": {},
   "outputs": [],
   "source": [
    "# Write a python script to print first 10 odd natural numbers in reverse order.\n",
    "n=20\n",
    "while n<0:\n",
    "    print(n-1,end=' ')\n",
    "    n-=2"
   ]
  },
  {
   "cell_type": "code",
   "execution_count": 28,
   "id": "b1c0b149",
   "metadata": {},
   "outputs": [
    {
     "name": "stdout",
     "output_type": "stream",
     "text": [
      "2 4 6 8 10 12 14 16 18 20 "
     ]
    }
   ],
   "source": [
    "# Write a python script to print first 10 even natural numbers.\n",
    "n=1\n",
    "while n<=20:\n",
    "    print((n+1),end=' ')\n",
    "    n+=2"
   ]
  },
  {
   "cell_type": "code",
   "execution_count": 1,
   "id": "8444a459",
   "metadata": {},
   "outputs": [
    {
     "name": "stdout",
     "output_type": "stream",
     "text": [
      "20 18 16 14 12 10 8 6 4 2 "
     ]
    }
   ],
   "source": [
    "# Write a python script to print first 10 even natural numbers in reverse order.\n",
    "n=20\n",
    "while 0<n:\n",
    "    print(n,end=' ')\n",
    "    n-=2"
   ]
  },
  {
   "cell_type": "code",
   "execution_count": 15,
   "id": "e70325f6",
   "metadata": {},
   "outputs": [
    {
     "name": "stdout",
     "output_type": "stream",
     "text": [
      "1 4 9 16 25 36 49 64 81 100 "
     ]
    }
   ],
   "source": [
    "# Write a python script to print squares of first 10 natural numbers.\n",
    "n=1\n",
    "while n<=10:\n",
    "    print(n**2,end=' ')\n",
    "    n+=1"
   ]
  },
  {
   "cell_type": "code",
   "execution_count": 16,
   "id": "c70400c7",
   "metadata": {},
   "outputs": [
    {
     "name": "stdout",
     "output_type": "stream",
     "text": [
      "1 8 27 64 125 216 343 512 729 1000 "
     ]
    }
   ],
   "source": [
    "# Write a python script to print cubes of first 10 natural numbers.\n",
    "n=1\n",
    "while n<=10:\n",
    "    print(n**3,end=' ')\n",
    "    n+=1"
   ]
  },
  {
   "cell_type": "code",
   "execution_count": 17,
   "id": "02c9bdff",
   "metadata": {},
   "outputs": [
    {
     "name": "stdout",
     "output_type": "stream",
     "text": [
      "5 10 15 20 25 30 35 40 45 50 "
     ]
    }
   ],
   "source": [
    "# Write a python script to print first 10 multiples of 5.\n",
    "n=1\n",
    "while n<=10:\n",
    "    print(5*n,end=' ')\n",
    "    n+=1"
   ]
  },
  {
   "cell_type": "code",
   "execution_count": 21,
   "id": "35a09003",
   "metadata": {},
   "outputs": [
    {
     "name": "stdout",
     "output_type": "stream",
     "text": [
      "Enter a number:3\n",
      "MySirG MySirG MySirG "
     ]
    }
   ],
   "source": [
    "# Write a python script to print MySirG N times on the screen.\n",
    "N=int(input(\"Enter a number:\"))\n",
    "n=1\n",
    "while n<=N:\n",
    "    print(\"MySirG\",end=' ')\n",
    "    n+=1\n"
   ]
  },
  {
   "cell_type": "code",
   "execution_count": 23,
   "id": "c46e47a8",
   "metadata": {},
   "outputs": [
    {
     "name": "stdout",
     "output_type": "stream",
     "text": [
      "Enter a number:12\n",
      "1 2 3 4 5 6 7 8 9 10 11 12 "
     ]
    }
   ],
   "source": [
    "# Write a python script to print first N natural numbers.\n",
    "N=int(input(\"Enter a number:\"))\n",
    "n=1\n",
    "while n<=N:\n",
    "    print(n,end=' ')\n",
    "    n+=1"
   ]
  },
  {
   "cell_type": "code",
   "execution_count": 25,
   "id": "ed6ce063",
   "metadata": {},
   "outputs": [
    {
     "name": "stdout",
     "output_type": "stream",
     "text": [
      "Enter a number:12\n",
      "12 11 10 9 8 7 6 5 4 3 2 1 "
     ]
    }
   ],
   "source": [
    "# Write a python script to print first N natural numbers in reverse order.\n",
    "N=int(input(\"Enter a number:\"))\n",
    "n=N\n",
    "while 0<n<=N:\n",
    "    print(n,end=' ')\n",
    "    n-=1"
   ]
  },
  {
   "cell_type": "code",
   "execution_count": 31,
   "id": "dc06aeb4",
   "metadata": {},
   "outputs": [
    {
     "name": "stdout",
     "output_type": "stream",
     "text": [
      "Enter a number:10\n",
      "1 3 5 7 9 11 13 15 17 19 "
     ]
    }
   ],
   "source": [
    "# Write a python script to print first N odd natural numbers.\n",
    "N=int(input(\"Enter a number:\"))\n",
    "n=1\n",
    "while n<=2*N:\n",
    "    print(n,end=' ')\n",
    "    n+=2"
   ]
  },
  {
   "cell_type": "code",
   "execution_count": 38,
   "id": "72629742",
   "metadata": {},
   "outputs": [
    {
     "name": "stdout",
     "output_type": "stream",
     "text": [
      "Enter a number:10\n",
      "19 17 15 13 11 9 7 5 3 1 "
     ]
    }
   ],
   "source": [
    "# Write a python script to print first N odd natural numbers in reverse order.\n",
    "N=int(input(\"Enter a number:\"))\n",
    "n=2*N\n",
    "while 0<n<=2*N:\n",
    "    print(n-1,end=' ')\n",
    "    n-=2"
   ]
  },
  {
   "cell_type": "code",
   "execution_count": 41,
   "id": "f53ee66e",
   "metadata": {},
   "outputs": [
    {
     "name": "stdout",
     "output_type": "stream",
     "text": [
      "Enter a number:10\n",
      "2 4 6 8 10 12 14 16 18 20 "
     ]
    }
   ],
   "source": [
    "# Write a python script to print first N even natural numbers.\n",
    "N=int(input(\"Enter a number:\"))\n",
    "n=1\n",
    "while n<=N:\n",
    "    print(2*n,end=' ')\n",
    "    n+=1"
   ]
  },
  {
   "cell_type": "code",
   "execution_count": 46,
   "id": "856087b4",
   "metadata": {},
   "outputs": [
    {
     "name": "stdout",
     "output_type": "stream",
     "text": [
      "Enter a number:10\n",
      "20 18 16 14 12 10 8 6 4 2 "
     ]
    }
   ],
   "source": [
    "# Write a python script to print first N even natural numbers in reverse order.\n",
    "N=int(input(\"Enter a number:\"))\n",
    "n=N\n",
    "while 0<n<=N:\n",
    "    print(2*n,end=' ')\n",
    "    n-=1"
   ]
  },
  {
   "cell_type": "code",
   "execution_count": 47,
   "id": "dcdd5f7d",
   "metadata": {},
   "outputs": [
    {
     "name": "stdout",
     "output_type": "stream",
     "text": [
      "Enter a number:10\n",
      "1 4 9 16 25 36 49 64 81 100 "
     ]
    }
   ],
   "source": [
    "# Write a python script to print squares of first N natural numbers.\n",
    "N=int(input(\"Enter a number:\"))\n",
    "n=1\n",
    "while n<=N:\n",
    "    print(n**2,end=' ')\n",
    "    n+=1"
   ]
  },
  {
   "cell_type": "code",
   "execution_count": 48,
   "id": "065b0f37",
   "metadata": {},
   "outputs": [
    {
     "name": "stdout",
     "output_type": "stream",
     "text": [
      "Enter a number:10\n",
      "1 8 27 64 125 216 343 512 729 1000 "
     ]
    }
   ],
   "source": [
    "# Write a python script to print cubes of first N natural numbers.\n",
    "N=int(input(\"Enter a number:\"))\n",
    "n=1\n",
    "while n<=N:\n",
    "    print(n**3,end=' ')\n",
    "    n+=1"
   ]
  },
  {
   "cell_type": "code",
   "execution_count": 50,
   "id": "e5459d9f",
   "metadata": {},
   "outputs": [
    {
     "name": "stdout",
     "output_type": "stream",
     "text": [
      "Enter a number:6\n",
      "6 12 18 24 30 36 42 48 54 60 "
     ]
    }
   ],
   "source": [
    "# Write a python script to print first 10 multiples of N.\n",
    "N=int(input(\"Enter a number:\"))\n",
    "n=1\n",
    "while n<=10:\n",
    "    print(N*n,end=' ')\n",
    "    n+=1"
   ]
  },
  {
   "cell_type": "code",
   "execution_count": null,
   "id": "2aa6c374",
   "metadata": {},
   "outputs": [],
   "source": []
  }
 ],
 "metadata": {
  "kernelspec": {
   "display_name": "Python 3 (ipykernel)",
   "language": "python",
   "name": "python3"
  },
  "language_info": {
   "codemirror_mode": {
    "name": "ipython",
    "version": 3
   },
   "file_extension": ".py",
   "mimetype": "text/x-python",
   "name": "python",
   "nbconvert_exporter": "python",
   "pygments_lexer": "ipython3",
   "version": "3.9.7"
  }
 },
 "nbformat": 4,
 "nbformat_minor": 5
}
